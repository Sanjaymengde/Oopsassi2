{
 "cells": [
  {
   "cell_type": "markdown",
   "id": "387139bc-1edf-4751-9a47-3518d392b162",
   "metadata": {},
   "source": [
    "Q1. Explain Class and Object with respect to Object-Oriented Programming. Give a suitable example"
   ]
  },
  {
   "cell_type": "markdown",
   "id": "a0dfff44-9465-40c5-a785-d2bf4577fb6f",
   "metadata": {},
   "source": [
    "A class is a blueprint or template for creating objects (instances). It defines a set of attributes (variables) and methods (functions) that an object created from the class will have. A class encapsulates data for the object and defines the behavior that objects of this class can exhibit."
   ]
  },
  {
   "cell_type": "markdown",
   "id": "72adb4cb-0e91-45fa-bea9-c7b5055fd259",
   "metadata": {},
   "source": [
    "An object is an instance of a class. When a class is defined, no memory is allocated until an object of that class is created. Objects represent real-world entities and are instances that use the blueprint provided by the class."
   ]
  },
  {
   "cell_type": "code",
   "execution_count": 1,
   "id": "9b7b32d9-657c-4359-b1e5-b1b45e5e0186",
   "metadata": {},
   "outputs": [
    {
     "name": "stdout",
     "output_type": "stream",
     "text": [
      "2020 Toyota Camry\n",
      "2021 Honda Civic\n",
      "This car has 15000 miles on it.\n",
      "This car has 15100 miles on it.\n"
     ]
    }
   ],
   "source": [
    "class Car:\n",
    "    def __init__(self, make, model, year):\n",
    "        self.make = make \n",
    "        self.model = model \n",
    "        self.year = year  \n",
    "        self.odometer_reading = 0\n",
    "        \n",
    "    def describe_car(self):\n",
    "        return f\"{self.year} {self.make} {self.model}\"\n",
    "\n",
    "    def read_odometer(self):\n",
    "        return f\"This car has {self.odometer_reading} miles on it.\"\n",
    "\n",
    "    def update_odometer(self, mileage):\n",
    "        if mileage >= self.odometer_reading:\n",
    "            self.odometer_reading = mileage\n",
    "        else:\n",
    "            print(\"You can't roll back an odometer!\")\n",
    "\n",
    "    def drive(self, miles):\n",
    "        if miles > 0:\n",
    "            self.odometer_reading += miles\n",
    "        else:\n",
    "            print(\"Mileage must be positive.\")\n",
    "        \n",
    "my_car = Car(\"Toyota\", \"Camry\", 2020)\n",
    "your_car = Car(\"Honda\", \"Civic\", 2021)\n",
    "\n",
    "print(my_car.describe_car())  # Output: 2020 Toyota Camry\n",
    "print(your_car.describe_car())  # Output: 2021 Honda Civic\n",
    "\n",
    "my_car.update_odometer(15000)\n",
    "print(my_car.read_odometer())  # Output: This car has 15000 miles on it.\n",
    "\n",
    "my_car.drive(100)\n",
    "print(my_car.read_odometer())  # Output: This car has 15100 miles on it."
   ]
  },
  {
   "cell_type": "markdown",
   "id": "903f25d0-601e-48ab-9870-411d26cd7f35",
   "metadata": {},
   "source": [
    "Q2. Name the four pillars of OOPs."
   ]
  },
  {
   "cell_type": "markdown",
   "id": "de499116-e12d-49ca-b4f2-8d8efb4a6aab",
   "metadata": {},
   "source": [
    "Encapsulation,\n",
    "Abstraction,\n",
    "Inheritance,\n",
    "Polymorphism"
   ]
  },
  {
   "cell_type": "markdown",
   "id": "e0e43159-20fc-4f92-b213-177471118a32",
   "metadata": {},
   "source": [
    "Q3. Explain why the _init_() function is used. Give a suitable example."
   ]
  },
  {
   "cell_type": "markdown",
   "id": "408dc6bf-dc4f-40b8-9081-56fea1c2c6f6",
   "metadata": {},
   "source": [
    "The __init__() function in Python is used to initialize a newly created object by assigning values to its properties and performing other necessary operations:"
   ]
  },
  {
   "cell_type": "code",
   "execution_count": 2,
   "id": "9ab8395c-186c-42f7-bebf-82950f974a89",
   "metadata": {},
   "outputs": [
    {
     "name": "stdout",
     "output_type": "stream",
     "text": [
      "2020 Toyota Camry\n",
      "2021 Honda Civic\n"
     ]
    }
   ],
   "source": [
    "class Car:\n",
    "    def __init__(self, make, model, year):\n",
    "        self.make = make       \n",
    "        self.model = model     \n",
    "        self.year = year       \n",
    "\n",
    "    def describe_car(self):\n",
    "        return f\"{self.year} {self.make} {self.model}\"\n",
    "\n",
    "car1 = Car(\"Toyota\", \"Camry\", 2020)\n",
    "car2 = Car(\"Honda\", \"Civic\", 2021)\n",
    "\n",
    "print(car1.describe_car())  \n",
    "print(car2.describe_car())  "
   ]
  },
  {
   "cell_type": "markdown",
   "id": "23d1c915-1c05-48b2-85f7-da6f15d592ee",
   "metadata": {},
   "source": [
    "Q4. Why self is used in OOPs?"
   ]
  },
  {
   "cell_type": "code",
   "execution_count": null,
   "id": "d811c46e-7dde-43af-a98e-562298a64af2",
   "metadata": {},
   "outputs": [],
   "source": []
  },
  {
   "cell_type": "code",
   "execution_count": null,
   "id": "e69877c3-fe0e-43c0-92c9-f4599ec2e541",
   "metadata": {},
   "outputs": [],
   "source": []
  }
 ],
 "metadata": {
  "kernelspec": {
   "display_name": "Python 3 (ipykernel)",
   "language": "python",
   "name": "python3"
  },
  "language_info": {
   "codemirror_mode": {
    "name": "ipython",
    "version": 3
   },
   "file_extension": ".py",
   "mimetype": "text/x-python",
   "name": "python",
   "nbconvert_exporter": "python",
   "pygments_lexer": "ipython3",
   "version": "3.13.0"
  }
 },
 "nbformat": 4,
 "nbformat_minor": 5
}
